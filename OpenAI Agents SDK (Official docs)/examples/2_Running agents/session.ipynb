{
 "cells": [
  {
   "cell_type": "code",
   "execution_count": null,
   "id": "3418c905",
   "metadata": {},
   "outputs": [
    {
     "name": "stdout",
     "output_type": "stream",
     "text": [
      "Using OpenAI model: *** gpt-4o-mini ***\n"
     ]
    }
   ],
   "source": [
    "from g_config import create_gemini_config, create_openai_config\n",
    "\n",
    "provider, model = create_openai_config()"
   ]
  },
  {
   "cell_type": "code",
   "execution_count": 3,
   "id": "1eed2c27",
   "metadata": {},
   "outputs": [],
   "source": [
    "from agents import Agent, Runner, SQLiteSession, RunConfig"
   ]
  },
  {
   "cell_type": "code",
   "execution_count": 4,
   "id": "e9191daa",
   "metadata": {},
   "outputs": [],
   "source": [
    "agent = Agent(\n",
    "    name=\"StreamAgent\",\n",
    "    instructions=\"Reply very concisely.\"\n",
    ")\n",
    "\n",
    "run_config = RunConfig(\n",
    "    model=model,\n",
    "    model_provider=provider,\n",
    "    tracing_disabled=True\n",
    ")"
   ]
  },
  {
   "cell_type": "code",
   "execution_count": 5,
   "id": "c62cf1de",
   "metadata": {},
   "outputs": [
    {
     "name": "stdout",
     "output_type": "stream",
     "text": [
      "Sacramento.\n",
      "California.\n",
      "As of 2023, approximately 513,000.\n"
     ]
    }
   ],
   "source": [
    "\n",
    "\n",
    "# Create a session instance with a session ID\n",
    "session = SQLiteSession(\"conversation_123\")\n",
    "\n",
    "# First turn\n",
    "result = await Runner.run(\n",
    "    agent,\n",
    "    \"What s the capital of California?\",\n",
    "    session=session,\n",
    "    run_config=run_config\n",
    ")\n",
    "print(result.final_output)  # \"San Francisco\"\n",
    "\n",
    "# Second turn - agent automatically remembers previous context\n",
    "result = await Runner.run(\n",
    "    agent,\n",
    "    \"What state is it in?\",\n",
    "    session=session,\n",
    "    run_config=run_config\n",
    ")\n",
    "print(result.final_output)  # \"California\"\n",
    "\n",
    "# Also works with synchronous runner\n",
    "result = await Runner.run(\n",
    "    agent,\n",
    "    \"What's the population?\",\n",
    "    session=session,\n",
    "    run_config=run_config\n",
    ")\n",
    "print(result.final_output)  # \"Approximately 39 million\"\n",
    "\n"
   ]
  },
  {
   "cell_type": "code",
   "execution_count": 6,
   "id": "f11e86f4",
   "metadata": {},
   "outputs": [
    {
     "name": "stdout",
     "output_type": "stream",
     "text": [
      "\"What's the population?\"\n"
     ]
    }
   ],
   "source": [
    "# Also works with synchronous runner\n",
    "result = await Runner.run(\n",
    "    agent,\n",
    "    \"What was my last message?\",\n",
    "    session=session,\n",
    "    run_config=run_config\n",
    ")\n",
    "print(result.final_output)  # \"Approximately 39 million\"\n"
   ]
  },
  {
   "cell_type": "code",
   "execution_count": 8,
   "id": "068082fe",
   "metadata": {},
   "outputs": [
    {
     "data": {
      "text/plain": [
       "[{'content': 'What s the capital of California?', 'role': 'user'},\n",
       " {'id': '__fake_id__',\n",
       "  'content': [{'annotations': [],\n",
       "    'text': 'Sacramento.',\n",
       "    'type': 'output_text'}],\n",
       "  'role': 'assistant',\n",
       "  'status': 'completed',\n",
       "  'type': 'message'},\n",
       " {'content': 'What state is it in?', 'role': 'user'},\n",
       " {'id': '__fake_id__',\n",
       "  'content': [{'annotations': [],\n",
       "    'text': 'California.',\n",
       "    'type': 'output_text'}],\n",
       "  'role': 'assistant',\n",
       "  'status': 'completed',\n",
       "  'type': 'message'},\n",
       " {'content': \"What's the population?\", 'role': 'user'},\n",
       " {'id': '__fake_id__',\n",
       "  'content': [{'annotations': [],\n",
       "    'text': 'As of 2023, approximately 513,000.',\n",
       "    'type': 'output_text'}],\n",
       "  'role': 'assistant',\n",
       "  'status': 'completed',\n",
       "  'type': 'message'},\n",
       " {'content': 'What was my last message?', 'role': 'user'},\n",
       " {'id': '__fake_id__',\n",
       "  'content': [{'annotations': [],\n",
       "    'text': '\"What\\'s the population?\"',\n",
       "    'type': 'output_text'}],\n",
       "  'role': 'assistant',\n",
       "  'status': 'completed',\n",
       "  'type': 'message'}]"
      ]
     },
     "execution_count": 8,
     "metadata": {},
     "output_type": "execute_result"
    }
   ],
   "source": [
    "# Get all items in a session\n",
    "items = await session.get_items()\n",
    "items"
   ]
  },
  {
   "cell_type": "code",
   "execution_count": 9,
   "id": "38bec155",
   "metadata": {},
   "outputs": [],
   "source": [
    "# Add new items to a session\n",
    "new_items = [\n",
    "    {\"role\": \"user\", \"content\": \"Hello\"},\n",
    "    {\"role\": \"assistant\", \"content\": \"Hi there!\"}\n",
    "]\n",
    "await session.add_items(new_items)\n"
   ]
  },
  {
   "cell_type": "code",
   "execution_count": 10,
   "id": "4c267586",
   "metadata": {},
   "outputs": [
    {
     "name": "stdout",
     "output_type": "stream",
     "text": [
      "{'role': 'assistant', 'content': 'Hi there!'}\n"
     ]
    }
   ],
   "source": [
    "# Remove and return the most recent item\n",
    "last_item = await session.pop_item()\n",
    "print(last_item)  # {\"role\": \"assistant\", \"content\": \"Hi there!\"}"
   ]
  },
  {
   "cell_type": "code",
   "execution_count": 11,
   "id": "03469117",
   "metadata": {},
   "outputs": [],
   "source": [
    "# Clear all items from a session\n",
    "await session.clear_session()"
   ]
  },
  {
   "cell_type": "code",
   "execution_count": 12,
   "id": "be322786",
   "metadata": {},
   "outputs": [
    {
     "data": {
      "text/plain": [
       "[]"
      ]
     },
     "execution_count": 12,
     "metadata": {},
     "output_type": "execute_result"
    }
   ],
   "source": [
    "# Get all items in a session\n",
    "items = await session.get_items()\n",
    "items"
   ]
  },
  {
   "cell_type": "markdown",
   "id": "86f9a8fe",
   "metadata": {},
   "source": [
    "### # Multiple sessions"
   ]
  },
  {
   "cell_type": "code",
   "execution_count": 14,
   "id": "264c2654",
   "metadata": {},
   "outputs": [],
   "source": [
    "# Multiple sessions\n",
    "\n",
    "from agents import Agent, Runner, SQLiteSession\n",
    "\n",
    "\n",
    "# Different sessions maintain separate conversation histories\n",
    "session_1 = SQLiteSession(\"user_123\", \"conversations.db\")\n",
    "session_2 = SQLiteSession(\"user_456\", \"conversations.db\")\n",
    "\n",
    "result1 = await Runner.run(\n",
    "    agent,\n",
    "    \"Hello\",\n",
    "    session=session_1,\n",
    "    run_config=run_config\n",
    ")\n",
    "result2 = await Runner.run(\n",
    "    agent,\n",
    "    \"Hello\",\n",
    "    session=session_2,\n",
    "    run_config=run_config\n",
    ")"
   ]
  },
  {
   "cell_type": "code",
   "execution_count": 16,
   "id": "10c3110e",
   "metadata": {},
   "outputs": [
    {
     "data": {
      "text/plain": [
       "'Hello! How can I help you today?'"
      ]
     },
     "execution_count": 16,
     "metadata": {},
     "output_type": "execute_result"
    }
   ],
   "source": [
    "result1.final_output"
   ]
  },
  {
   "cell_type": "code",
   "execution_count": 27,
   "id": "bf9830bb",
   "metadata": {},
   "outputs": [
    {
     "data": {
      "text/plain": [
       "'agent_messages'"
      ]
     },
     "execution_count": 27,
     "metadata": {},
     "output_type": "execute_result"
    }
   ],
   "source": [
    "session_1.session_id\n",
    "\n",
    "session_1.messages_table\n",
    "\n"
   ]
  },
  {
   "cell_type": "markdown",
   "id": "c1e59603",
   "metadata": {},
   "source": [
    "**Custom memory implementations**"
   ]
  },
  {
   "cell_type": "code",
   "execution_count": 28,
   "id": "8675be3e",
   "metadata": {},
   "outputs": [],
   "source": [
    "from agents.memory import Session\n",
    "from typing import List\n",
    "\n",
    "class MyCustomSession:\n",
    "    \"\"\"Custom session implementation following the Session protocol.\"\"\"\n",
    "    def __init__(self,session_id: str):\n",
    "        self.session_id = session_id\n",
    "        self.items = []\n",
    "        \n",
    "    async def get_items(self) -> List[dict]:\n",
    "        \"\"\"Get all items in the session.\"\"\"\n",
    "        return self.items\n",
    "    \n",
    "    async def add_items(self, items: List[dict]) -> None:\n",
    "        \"\"\"Add new items to the session.\"\"\"\n",
    "        self.items.extend(items)\n",
    "        \n",
    "    async def pop_item(self) -> dict:\n",
    "        \"\"\"Remove and return the most recent item.\"\"\"\n",
    "        if self.items:\n",
    "            return self.items.pop()\n",
    "        return None\n",
    "    async def clear_session(self) -> None:\n",
    "        \"\"\"Clear all items from the session.\"\"\"\n",
    "        self.items.clear()\n",
    "\n"
   ]
  },
  {
   "cell_type": "code",
   "execution_count": 29,
   "id": "f909ed21",
   "metadata": {},
   "outputs": [
    {
     "name": "stdout",
     "output_type": "stream",
     "text": [
      "Hello! How can I assist you today?\n"
     ]
    }
   ],
   "source": [
    "# customSession results\n",
    "custom_session = MyCustomSession(\"custom_session_123\")\n",
    "\n",
    "results_main = await Runner.run(\n",
    "    agent,\n",
    "    \"Hi there!\",\n",
    "    session=custom_session,\n",
    "    run_config=run_config\n",
    ")\n",
    "\n",
    "print(results_main.final_output)  # \"Hello!\""
   ]
  },
  {
   "cell_type": "code",
   "execution_count": 35,
   "id": "df2db2f1",
   "metadata": {},
   "outputs": [
    {
     "data": {
      "text/plain": [
       "[{'content': 'Hi there!', 'role': 'user'},\n",
       " {'id': '__fake_id__',\n",
       "  'content': [{'annotations': [],\n",
       "    'text': 'Hello! How can I assist you today?',\n",
       "    'type': 'output_text'}],\n",
       "  'role': 'assistant',\n",
       "  'status': 'completed',\n",
       "  'type': 'message'}]"
      ]
     },
     "execution_count": 35,
     "metadata": {},
     "output_type": "execute_result"
    }
   ],
   "source": [
    "# Get all items in a session\n",
    "items = await custom_session.get_items()\n",
    "items"
   ]
  },
  {
   "cell_type": "code",
   "execution_count": 37,
   "id": "042bdc61",
   "metadata": {},
   "outputs": [
    {
     "name": "stdout",
     "output_type": "stream",
     "text": [
      "{'id': '__fake_id__', 'content': [{'annotations': [], 'text': 'Hello! How can I assist you today?', 'type': 'output_text'}], 'role': 'assistant', 'status': 'completed', 'type': 'message'}\n"
     ]
    }
   ],
   "source": [
    "# Remove and return the most recent item\n",
    "last_item = await custom_session.pop_item()\n",
    "print(last_item)  # {\"role\": \"assistant\", \"content\": \"Hi there!\"}"
   ]
  },
  {
   "cell_type": "code",
   "execution_count": 39,
   "id": "ff96dcd8",
   "metadata": {},
   "outputs": [],
   "source": [
    "# Clear all items from a session\n",
    "await session.clear_session()"
   ]
  },
  {
   "cell_type": "code",
   "execution_count": 41,
   "id": "3a83fff3",
   "metadata": {},
   "outputs": [
    {
     "data": {
      "text/plain": [
       "[{'content': 'Hi there!', 'role': 'user'}]"
      ]
     },
     "execution_count": 41,
     "metadata": {},
     "output_type": "execute_result"
    }
   ],
   "source": [
    "# Get all items in a session\n",
    "await custom_session.get_items()\n"
   ]
  },
  {
   "cell_type": "code",
   "execution_count": null,
   "id": "0dc152cc",
   "metadata": {},
   "outputs": [],
   "source": []
  }
 ],
 "metadata": {
  "kernelspec": {
   "display_name": "agentic_env",
   "language": "python",
   "name": "python3"
  },
  "language_info": {
   "codemirror_mode": {
    "name": "ipython",
    "version": 3
   },
   "file_extension": ".py",
   "mimetype": "text/x-python",
   "name": "python",
   "nbconvert_exporter": "python",
   "pygments_lexer": "ipython3",
   "version": "3.13.5"
  }
 },
 "nbformat": 4,
 "nbformat_minor": 5
}
