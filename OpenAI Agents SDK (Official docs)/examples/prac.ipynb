{
 "cells": [
  {
   "cell_type": "code",
   "execution_count": null,
   "id": "e4f7ecd4",
   "metadata": {},
   "outputs": [],
   "source": [
    "from agents import Agent, Runner\n",
    "from dotenv import load_dotenv, find_dotenv\n",
    "\n",
    "load_dotenv(find_dotenv())"
   ]
  },
  {
   "cell_type": "code",
   "execution_count": 10,
   "id": "7e84e9c6",
   "metadata": {},
   "outputs": [],
   "source": [
    "agent : Agent = Agent(\n",
    "    name=\"Math Tutor\",\n",
    "    instructions=\"You provide help with math problems. Explain your reasoning at each step and include examples\",\n",
    ")"
   ]
  },
  {
   "cell_type": "code",
   "execution_count": null,
   "id": "239c4cca",
   "metadata": {},
   "outputs": [
    {
     "name": "stdout",
     "output_type": "stream",
     "text": [
      "RunResult:\n",
      "- Last agent: Agent(name=\"Math Tutor\", ...)\n",
      "- Final output (str):\n",
      "    The solution to the problem \\(2 + 5\\) is found by adding the two numbers together.\n",
      "    \n",
      "    Here’s the step-by-step explanation:\n",
      "    \n",
      "    1. **Identify the Numbers**: We have two numbers, 2 and 5.\n",
      "    2. **Add the Numbers**: We add them together:\n",
      "       \\[\n",
      "       2 + 5 = 7\n",
      "       \\]\n",
      "    \n",
      "    **Example**: \n",
      "    - If you have 2 apples and someone gives you 5 more apples, you will have a total of 7 apples.\n",
      "    \n",
      "    So, the solution to \\(2 + 5\\) is 7.\n",
      "- 1 new item(s)\n",
      "- 1 raw response(s)\n",
      "- 0 input guardrail result(s)\n",
      "- 0 output guardrail result(s)\n",
      "(See `RunResult` for more details)\n"
     ]
    }
   ],
   "source": [
    "async def main():\n",
    "    result = await Runner.run(agent, \"What is the solution of 2+5?.\")\n",
    "    # print(result.final_output)\n",
    "    print(result)\n",
    "    \n",
    "\n",
    "await main()"
   ]
  },
  {
   "cell_type": "code",
   "execution_count": null,
   "id": "5101ea3c",
   "metadata": {},
   "outputs": [],
   "source": []
  }
 ],
 "metadata": {
  "kernelspec": {
   "display_name": "agentic_env",
   "language": "python",
   "name": "python3"
  },
  "language_info": {
   "codemirror_mode": {
    "name": "ipython",
    "version": 3
   },
   "file_extension": ".py",
   "mimetype": "text/x-python",
   "name": "python",
   "nbconvert_exporter": "python",
   "pygments_lexer": "ipython3",
   "version": "3.12.6"
  }
 },
 "nbformat": 4,
 "nbformat_minor": 5
}
